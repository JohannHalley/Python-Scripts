{
 "cells": [
  {
   "attachments": {},
   "cell_type": "markdown",
   "metadata": {},
   "source": [
    "# numpy"
   ]
  },
  {
   "cell_type": "code",
   "execution_count": null,
   "metadata": {},
   "outputs": [],
   "source": [
    "s = np.array([(2,12), (3,11), (3,8), (5,4), (7,5), (7,3), (10,8), (13,8)])"
   ]
  },
  {
   "attachments": {},
   "cell_type": "markdown",
   "metadata": {},
   "source": [
    "# Tuple"
   ]
  },
  {
   "cell_type": "code",
   "execution_count": null,
   "metadata": {},
   "outputs": [],
   "source": [
    "[(),()]"
   ]
  },
  {
   "attachments": {},
   "cell_type": "markdown",
   "metadata": {},
   "source": [
    "# KNN"
   ]
  },
  {
   "cell_type": "code",
   "execution_count": 5,
   "metadata": {},
   "outputs": [
    {
     "name": "stdout",
     "output_type": "stream",
     "text": [
      "[ 1 -1 -1 -1 -1]\n",
      "[ 1 -1  1 -1  1]\n",
      "[ 1 -1  1 -1 -1]\n",
      "[ 1 -1  1  1 -1]\n"
     ]
    }
   ],
   "source": [
    "import numpy as np\n",
    "from sklearn.neighbors import KNeighborsClassifier\n",
    "\n",
    "\n",
    "# Example data:\n",
    "# The tuple (x_1, x_2, x_3, y) means that the point (x_1, x_2, x_3)^T is in class y\n",
    "exampledata = [\n",
    "\t(   -4,  -2.1,    -1,  -1 ),\n",
    "\t( -3.6,  -1.4,   0.2,   1 ),\n",
    "\t(    1,  -0.2,  -0.3,   1 ),\n",
    "\t(  0.3,  -0.5,  -0.5,   1 ),\n",
    "\t(   -2,  -3.5,    -1,  -1 ),\n",
    "\t( -4.2,    -4,   0.2,   1 ),\n",
    "\t( -1.3,  -0.1,    -3,   1 ),\n",
    "\t( -0.7,   0.9,  -0.7,   1 ),\n",
    "\t(    1,     2,   1.4,   1 ),\n",
    "\t(  2.6,  -1.5,   0.2,   1 ),\n",
    "\t(    2,   4.3,  -0.7,  -1 ),\n",
    "\t(  0.6,   0.4,   0.2,  -1 ),\n",
    "\t(  2.9,  -1.7,   3.6,  -1 ),\n",
    "\t(  3.6,   0.4,  -2.5,  -1 ),\n",
    "\t(  1.2,     4,   1.2,  -1 ),\n",
    "\t(   -1,   0.5,   0.5,  -1 ),\n",
    "\t(    3,   2.7,   2.3,  -1 ),\n",
    "\t(    4,    -3,   2.2,  -1 ),\n",
    "\t(  0.1,   0.1,   3.5,  -1 ),\n",
    "\t(  2.8,   1.2,   2.4,  -1 )\n",
    "]\n",
    "\n",
    "# Data to classify\n",
    "# The tuple (x_1, x_2, x_3) denotes the vector (x_1, x_2, x_3)^T\n",
    "querypoints = [\n",
    "\t(  1,   -2,    0 ),\n",
    "\t(  4, -0.5,    2 ),\n",
    "\t(  1,  1.5, -2.5 ),\n",
    "\t( -2,   -1,   -2 ),\n",
    "\t( -4,   -1,   -1 )\n",
    "]\n",
    "\n",
    "# get data from exampledata\n",
    "X = np.array([x[:3] for x in exampledata]) \n",
    "\n",
    "# get labels from exampledata\n",
    "y = np.array([x[3] for x in exampledata])\n",
    "\n",
    "\n",
    "# predict labels for querypoints using the k-nearest neighbor algorithm using manhattan distance\n",
    "querypoints = np.array(querypoints)\n",
    "knn = KNeighborsClassifier(n_neighbors=2, p=1)\n",
    "knn.fit(X, y)\n",
    "print(knn.predict(querypoints))\n",
    "\n",
    "knn = KNeighborsClassifier(n_neighbors=3, p=1)\n",
    "knn.fit(X, y)\n",
    "print(knn.predict(querypoints))\n",
    "\n",
    "# predict labels for querypoints using the k-nearest neighbor algorithm\n",
    "querypoints = np.array(querypoints)\n",
    "knn = KNeighborsClassifier(n_neighbors=2)\n",
    "knn.fit(X, y)\n",
    "print(knn.predict(querypoints))\n",
    "\n",
    "\n",
    "knn = KNeighborsClassifier(n_neighbors=3)\n",
    "knn.fit(X, y)\n",
    "print(knn.predict(querypoints))"
   ]
  },
  {
   "cell_type": "code",
   "execution_count": 1,
   "metadata": {},
   "outputs": [
    {
     "name": "stdout",
     "output_type": "stream",
     "text": [
      "[2.1, 2.3000000000000003, 2.7, 3.0, 5.0, 5.3, 5.3999999999999995, 5.4, 5.5, 5.800000000000001, 6.1, 6.2, 6.5, 7.199999999999999, 7.4, 7.4, 7.4, 7.5, 8.0, 9.0]\n",
      "(1, -0.2, -0.3, 1)\n",
      "(2.6, -1.5, 0.2, 1)\n",
      "1\n",
      "[2.7, 3.3000000000000003, 3.9, 4.2, 4.5, 5.6, 5.8, 6.0, 6.1, 6.1, 6.2, 7.5, 8.1, 8.8, 9.5, 10.3, 10.7, 12.0, 12.6, 13.5]\n",
      "(4, -3, 2.2, -1)\n",
      "(2.8, 1.2, 2.4, -1)\n",
      "-1\n",
      "[3.7, 3.9000000000000004, 4.1, 4.2, 4.4, 4.4, 4.7, 5.6, 6.0, 6.4, 7.0, 7.3, 8.0, 8.3, 9.5, 10.1, 10.2, 11.2, 12.2, 13.399999999999999]\n",
      "(3.6, 0.4, -2.5, -1)\n",
      "(1, -0.2, -0.3, 1)\n",
      "0\n",
      "[2.6, 3.5, 4.1, 4.2, 4.3, 4.5, 5.0, 5.5, 6.2, 7.3, 7.4, 7.5, 8.7, 9.4, 10.600000000000001, 11.2, 11.399999999999999, 11.4, 12.2, 13.0]\n",
      "(-1.3, -0.1, -3, 1)\n",
      "(-2, -3.5, -1, -1)\n",
      "0\n",
      "[1.1, 1.9999999999999998, 4.4, 4.5, 5.3, 5.499999999999999, 5.6, 6.0, 6.5, 7.2, 8.299999999999999, 9.7, 10.4, 10.5, 11.600000000000001, 12.2, 12.399999999999999, 12.4, 13.2, 14.0]\n",
      "(-4, -2.1, -1, -1)\n",
      "(-3.6, -1.4, 0.2, 1)\n",
      "0\n"
     ]
    }
   ],
   "source": [
    "# Example data:\n",
    "# The tuple (x_1, x_2, x_3, y) means that the point (x_1, x_2, x_3)^T is in class y\n",
    "import math\n",
    "\n",
    "\n",
    "exampledata = [\n",
    "\t(   -4,  -2.1,    -1,  -1 ),\n",
    "\t( -3.6,  -1.4,   0.2,   1 ),\n",
    "\t(    1,  -0.2,  -0.3,   1 ),\n",
    "\t(  0.3,  -0.5,  -0.5,   1 ),\n",
    "\t(   -2,  -3.5,    -1,  -1 ),\n",
    "\t( -4.2,    -4,   0.2,   1 ),\n",
    "\t( -1.3,  -0.1,    -3,   1 ),\n",
    "\t( -0.7,   0.9,  -0.7,   1 ),\n",
    "\t(    1,     2,   1.4,   1 ),\n",
    "\t(  2.6,  -1.5,   0.2,   1 ),\n",
    "\t(    2,   4.3,  -0.7,  -1 ),\n",
    "\t(  0.6,   0.4,   0.2,  -1 ),\n",
    "\t(  2.9,  -1.7,   3.6,  -1 ),\n",
    "\t(  3.6,   0.4,  -2.5,  -1 ),\n",
    "\t(  1.2,     4,   1.2,  -1 ),\n",
    "\t(   -1,   0.5,   0.5,  -1 ),\n",
    "\t(    3,   2.7,   2.3,  -1 ),\n",
    "\t(    4,    -3,   2.2,  -1 ),\n",
    "\t(  0.1,   0.1,   3.5,  -1 ),\n",
    "\t(  2.8,   1.2,   2.4,  -1 )\n",
    "]\n",
    "\n",
    "# Data to classify\n",
    "# The tuple (x_1, x_2, x_3) denotes the vector (x_1, x_2, x_3)^T\n",
    "querypoints = [\n",
    "\t(  1,   -2,    0 ),\n",
    "\t(  4, -0.5,    2 ),\n",
    "\t(  1,  1.5, -2.5 ),\n",
    "\t( -2,   -1,   -2 ),\n",
    "\t( -4,   -1,   -1 )\n",
    "]\n",
    "\n",
    "# classify the query points using k-nearest neighbour with exampledata as training data\n",
    "# and k = 2 with manhattan distance\n",
    "def manhattan(q, e):\n",
    "    return (abs(e[0]-q[0])+abs(e[1]-q[1])+abs(e[2]-q[2]))\n",
    "\n",
    "def euclidean(q, e):\n",
    "\treturn math.sqrt((e[0]-q[0])**2+(e[1]-q[1])**2+(e[2]-q[2])**2)\n",
    "\n",
    "k = 2\n",
    "# k = 3\n",
    "\n",
    "for q in querypoints:\n",
    "    # calculate the distances to all points in exampledata\n",
    "\tdis = []\n",
    "\tfor e in exampledata:\n",
    "\t\tdis.append(manhattan(q, e))\n",
    "\n",
    "\t# sort the distances\n",
    "\tdis.sort()\n",
    "\tprint(dis)\n",
    "\n",
    "\n",
    "\t# get the top k elements\n",
    "\ttop = dis[:k]\n",
    "\n",
    "\t# count the labels of the top k elements\n",
    "\tcount = 0\n",
    "\tfor t in top:\n",
    "\t\tfor e in exampledata:\n",
    "\t\t\tif abs(manhattan(q, e) - t) < 0.0001:\n",
    "\t\t\t\tprint(e)\n",
    "\t\t\t\tcount += e[3]\n",
    "\t\t\t\tbreak\n",
    "\n",
    "\t# check the sign of the count\n",
    "\tif count  ==  0:\n",
    "\t\tprint(\"0\")\n",
    "\telif count  >  0:\n",
    "\t\tprint(\"1\")\n",
    "\telse:\n",
    "\t\tprint(\"-1\")\n"
   ]
  },
  {
   "attachments": {},
   "cell_type": "markdown",
   "metadata": {},
   "source": [
    "# Kmeans"
   ]
  },
  {
   "cell_type": "code",
   "execution_count": 2,
   "metadata": {},
   "outputs": [
    {
     "name": "stdout",
     "output_type": "stream",
     "text": [
      "[0 0 1 2 2 2 2 2]\n"
     ]
    },
    {
     "name": "stderr",
     "output_type": "stream",
     "text": [
      "/Users/hanbin/Library/Python/3.9/lib/python/site-packages/sklearn/cluster/_kmeans.py:870: FutureWarning: The default value of `n_init` will change from 10 to 'auto' in 1.4. Set the value of `n_init` explicitly to suppress the warning\n",
      "  warnings.warn(\n",
      "/Users/hanbin/Library/Python/3.9/lib/python/site-packages/sklearn/cluster/_kmeans.py:1362: RuntimeWarning: Explicit initial center position passed: performing only one init in KMeans instead of n_init=10.\n",
      "  super()._check_params_vs_input(X, default_n_init=10)\n"
     ]
    }
   ],
   "source": [
    "from sklearn.cluster import KMeans\n",
    "import numpy as np\n",
    "\n",
    "# 准备数据\n",
    "s = np.array([(2,12), (3,11), (3,8), (5,4), (7,5), (7,3), (10,8), (13,8)])\n",
    "\n",
    "# 定义初始中心点\n",
    "init_centers = np.array([(2,12), (3,11), (3,8)])\n",
    "# init_centers = np.array([(2,10), (6,4), (12,8)])\n",
    "\n",
    "# 初始化KMeans模型\n",
    "kmeans = KMeans(n_clusters=3, init=init_centers)\n",
    "\n",
    "# 训练模型\n",
    "kmeans.fit(s)\n",
    "\n",
    "# 输出结果\n",
    "print(kmeans.labels_)\n"
   ]
  },
  {
   "cell_type": "markdown",
   "metadata": {},
   "source": []
  }
 ],
 "metadata": {
  "kernelspec": {
   "display_name": "Python 3",
   "language": "python",
   "name": "python3"
  },
  "language_info": {
   "codemirror_mode": {
    "name": "ipython",
    "version": 3
   },
   "file_extension": ".py",
   "mimetype": "text/x-python",
   "name": "python",
   "nbconvert_exporter": "python",
   "pygments_lexer": "ipython3",
   "version": "3.6.6"
  },
  "orig_nbformat": 4
 },
 "nbformat": 4,
 "nbformat_minor": 2
}

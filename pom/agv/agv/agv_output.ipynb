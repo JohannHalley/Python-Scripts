{
 "cells": [
  {
   "attachments": {},
   "cell_type": "markdown",
   "metadata": {},
   "source": [
    "# Visualization Notebook\n",
    "This file can be used to plot your graph and to try out your solve function. It is not part of the grading."
   ]
  },
  {
   "cell_type": "code",
   "execution_count": 2,
   "metadata": {},
   "outputs": [
    {
     "name": "stdout",
     "output_type": "stream",
     "text": [
      "Requirement already satisfied: matplotlib in c:\\users\\hanbi\\appdata\\local\\programs\\python\\python36\\lib\\site-packages (3.3.4)\n",
      "Requirement already satisfied: numpy>=1.15 in c:\\users\\hanbi\\appdata\\local\\programs\\python\\python36\\lib\\site-packages (from matplotlib) (1.19.5)\n",
      "Requirement already satisfied: pillow>=6.2.0 in c:\\users\\hanbi\\appdata\\local\\programs\\python\\python36\\lib\\site-packages (from matplotlib) (8.4.0)\n",
      "Requirement already satisfied: pyparsing!=2.0.4,!=2.1.2,!=2.1.6,>=2.0.3 in c:\\users\\hanbi\\appdata\\local\\programs\\python\\python36\\lib\\site-packages (from matplotlib) (3.0.7)\n",
      "Requirement already satisfied: kiwisolver>=1.0.1 in c:\\users\\hanbi\\appdata\\local\\programs\\python\\python36\\lib\\site-packages (from matplotlib) (1.3.1)\n",
      "Requirement already satisfied: python-dateutil>=2.1 in c:\\users\\hanbi\\appdata\\roaming\\python\\python36\\site-packages (from matplotlib) (2.8.2)\n",
      "Requirement already satisfied: cycler>=0.10 in c:\\users\\hanbi\\appdata\\local\\programs\\python\\python36\\lib\\site-packages (from matplotlib) (0.11.0)\n",
      "Requirement already satisfied: six>=1.5 in c:\\users\\hanbi\\appdata\\roaming\\python\\python36\\site-packages (from python-dateutil>=2.1->matplotlib) (1.16.0)\n",
      "Note: you may need to restart the kernel to use updated packages.\n"
     ]
    },
    {
     "name": "stderr",
     "output_type": "stream",
     "text": [
      "You are using pip version 10.0.1, however version 21.3.1 is available.\n",
      "You should consider upgrading via the 'python -m pip install --upgrade pip' command.\n"
     ]
    }
   ],
   "source": [
    "pip install matplotlib"
   ]
  },
  {
   "cell_type": "code",
   "execution_count": 3,
   "metadata": {},
   "outputs": [
    {
     "name": "stdout",
     "output_type": "stream",
     "text": [
      "Requirement already satisfied: networkx in c:\\users\\hanbi\\appdata\\local\\programs\\python\\python36\\lib\\site-packages (2.5.1)\n",
      "Requirement already satisfied: decorator<5,>=4.3 in c:\\users\\hanbi\\appdata\\local\\programs\\python\\python36\\lib\\site-packages (from networkx) (4.4.2)\n",
      "Note: you may need to restart the kernel to use updated packages.\n"
     ]
    },
    {
     "name": "stderr",
     "output_type": "stream",
     "text": [
      "You are using pip version 10.0.1, however version 21.3.1 is available.\n",
      "You should consider upgrading via the 'python -m pip install --upgrade pip' command.\n"
     ]
    }
   ],
   "source": [
    "pip install networkx"
   ]
  },
  {
   "cell_type": "code",
   "execution_count": 4,
   "metadata": {},
   "outputs": [
    {
     "name": "stdout",
     "output_type": "stream",
     "text": [
      "Requirement already satisfied: gurobipy in c:\\users\\hanbi\\appdata\\local\\programs\\python\\python36\\lib\\site-packages (9.1.2)\n",
      "Note: you may need to restart the kernel to use updated packages.\n"
     ]
    },
    {
     "name": "stderr",
     "output_type": "stream",
     "text": [
      "You are using pip version 10.0.1, however version 21.3.1 is available.\n",
      "You should consider upgrading via the 'python -m pip install --upgrade pip' command.\n"
     ]
    }
   ],
   "source": [
    "pip install gurobipy"
   ]
  },
  {
   "attachments": {},
   "cell_type": "markdown",
   "metadata": {},
   "source": [
    "First we import necessary packages and then define our plotting function"
   ]
  },
  {
   "cell_type": "code",
   "execution_count": 5,
   "metadata": {},
   "outputs": [],
   "source": [
    "import matplotlib.pyplot as plt\n",
    "import networkx as nx\n",
    "import json\n",
    "from networkx.readwrite import json_graph\n",
    "from agv import solve\n",
    "\n",
    "\n",
    "def plot_graph(G: nx.Graph, plot_weights: bool, pos_given: bool):\n",
    "    \"\"\"Plots the graph\n",
    "\n",
    "    Args:\n",
    "        G (nx.DiGraph): Graph to plot\n",
    "        plot_weights (bool): Set to true if you want to plot the weights of the edges/arcs\n",
    "        pos_given (bool): Set to true if the graph has a pos attribute\n",
    "    \"\"\"\n",
    "    if pos_given:\n",
    "        pos=nx.get_node_attributes(G,'pos')\n",
    "    else:\n",
    "        pos = nx.shell_layout(G)\n",
    "    node_labels = {n: n for n in G.nodes}\n",
    "    if plot_weights:\n",
    "        edge_labels = dict(\n",
    "            [((u, v), f'{G.edges[(u, v)][\"weight\"]}') for u, v in G.edges])\n",
    "        nx.draw_networkx_edge_labels(G, pos, edge_labels=edge_labels)\n",
    "    nx.draw(G, with_labels=True, labels=node_labels, pos=pos)\n",
    "    plt.show()\n"
   ]
  },
  {
   "attachments": {},
   "cell_type": "markdown",
   "metadata": {},
   "source": [
    "Lets start by plotting the original street layout"
   ]
  },
  {
   "cell_type": "code",
   "execution_count": 6,
   "metadata": {},
   "outputs": [
    {
     "data": {
      "image/png": "[encoded data removed]",
      "text/plain": [
       "<Figure size 432x288 with 1 Axes>"
      ]
     },
     "metadata": {},
     "output_type": "display_data"
    }
   ],
   "source": [
    "# Instance to solve\n",
    "full_instance_path = 'data_2.json'\n",
    "\n",
    "with open(full_instance_path) as f:\n",
    "    data = json.load(f)\n",
    "    g_street = json_graph.node_link_graph(data['graph'])\n",
    "\n",
    "plot_graph(g_street, True, True)\n"
   ]
  },
  {
   "cell_type": "code",
   "execution_count": 7,
   "metadata": {},
   "outputs": [
    {
     "name": "stdout",
     "output_type": "stream",
     "text": [
      "(0, 1) 1\n",
      "(0, 2) 3\n",
      "(2, 1) 1\n",
      "K_max: 3\n",
      "add arc from 0_0 to 1_1 with wight 1\n",
      "add arc from 2_0 to 1_1 with wight 1\n",
      "add arc from 0_1 to 1_2 with wight 1\n",
      "add arc from 2_1 to 1_2 with wight 1\n",
      "1 {'j_s': 2, 'j_t': 1, 'j_r': 1, 'j_d': 2}\n",
      "add source node (1, start) on (1, 0)\n",
      "add sink node (1, end) on (3, 3)\n",
      "0 {'j_s': 0, 'j_t': 2, 'j_r': 0, 'j_d': 3}\n",
      "add source node (0, start) on (0, 0)\n",
      "add sink node (0, end) on (3, 3)\n"
     ]
    },
    {
     "data": {
      "image/png": "[encoded data removed]",
      "text/plain": [
       "<Figure size 432x288 with 1 Axes>"
      ]
     },
     "metadata": {},
     "output_type": "display_data"
    }
   ],
   "source": [
    "from agv import *\n",
    "\n",
    "# Instance to solve\n",
    "full_instance_path = 'data_4.json'\n",
    "jobs, g_street= read_instance(full_instance_path)\n",
    "\n",
    "# print weight of every edge from g_street\n",
    "for edge in g_street.edges():\n",
    "    print(edge, g_street.edges[edge]['weight'])\n",
    "\n",
    "# New directed graph\n",
    "g_time_expanded = nx.DiGraph()\n",
    "\n",
    "# get max j_d for all jobs\n",
    "max_j_d = max([job['j_d'] for job in jobs.values()])\n",
    "print(\"K_max:\", max_j_d)\n",
    "\n",
    "# Adding nodes \n",
    "# add all nodes from g_street for every time step in the time-expanded graph, g_time_expanded\n",
    "for t in range(max_j_d):\n",
    "    for node in g_street.nodes():\n",
    "        g_time_expanded.add_node(f\"{node}_{t}\", pos=(node, t + 1))\n",
    "node_num = len(g_street.nodes())\n",
    "\n",
    "\n",
    "# Adding arcs\n",
    "# add all arcs from g_street for every time step in the time-expanded graph, g_time_expanded\n",
    "for t in range(max_j_d):\n",
    "    for arc in g_street.edges():\n",
    "        # check if arc is not out of bounds\n",
    "        if t + g_street.edges[arc]['weight'] <= max_j_d - 1:\n",
    "            print(f\"add arc from {arc[0]}_{t} to {arc[1]}_{t + g_street.edges[arc]['weight']} with wight {g_street.edges[arc]['weight']}\")\n",
    "            g_time_expanded.add_edge(f\"{arc[0]}_{t}\", f\"{arc[1]}_{t + g_street.edges[arc]['weight']}\", weight=g_street.edges[arc]['weight'])\n",
    "\n",
    "\n",
    "\n",
    "# Adding source and sink nodes\n",
    "# add source node for every time step in the time-expanded graph, g_time_expanded\n",
    "for id, job in jobs.items():\n",
    "    print(id, job)\n",
    "    # add source node\n",
    "    print(f\"add source node ({id}, start) on ({id}, 0)\")\n",
    "    g_time_expanded.add_node(f\"({id}, start)\", pos=(id, 0))\n",
    "    \n",
    "    # -- TODO: \n",
    "    # add sink node\n",
    "    print(f\"add sink node ({id}, end) on ({node_num}, {job['j_d'] + int(id)})\")\n",
    "    g_time_expanded.add_node(f\"({id}, end)\", pos=(node_num + int(id), max_j_d + 1))\n",
    "\n",
    "\n",
    "plot_graph(G=g_time_expanded, plot_weights=False, pos_given=True)"
   ]
  },
  {
   "attachments": {},
   "cell_type": "markdown",
   "metadata": {},
   "source": [
    "Now we solve the instance and retrieve the time-expanded graph"
   ]
  },
  {
   "cell_type": "code",
   "execution_count": 4,
   "metadata": {},
   "outputs": [
    {
     "ename": "NameError",
     "evalue": "name 'solve' is not defined",
     "output_type": "error",
     "traceback": [
      "\u001b[1;31m---------------------------------------------------------------------------\u001b[0m",
      "\u001b[1;31mNameError\u001b[0m                                 Traceback (most recent call last)",
      "\u001b[1;32m<ipython-input-4-065afe64d46a>\u001b[0m in \u001b[0;36m<module>\u001b[1;34m\u001b[0m\n\u001b[1;32m----> 1\u001b[1;33m \u001b[0mmodel\u001b[0m\u001b[1;33m,\u001b[0m \u001b[0mg_time_expanded\u001b[0m \u001b[1;33m=\u001b[0m \u001b[0msolve\u001b[0m\u001b[1;33m(\u001b[0m\u001b[0mfull_instance_path\u001b[0m\u001b[1;33m)\u001b[0m\u001b[1;33m\u001b[0m\u001b[0m\n\u001b[0m",
      "\u001b[1;31mNameError\u001b[0m: name 'solve' is not defined"
     ]
    }
   ],
   "source": [
    "model, g_time_expanded = solve(full_instance_path)"
   ]
  },
  {
   "attachments": {},
   "cell_type": "markdown",
   "metadata": {},
   "source": [
    "Let's plot your time expanded graph - set the first flag to true if you added weights to your arcs and the second flag to true if you added positions to your nodes (recommended!). For example, you may use the time steps as y coordinates and the location IDs as x coordinates.\n",
    "\n",
    "**NOTE:** This is just an example for your convenience, you do not need to add positions to your nodes or plot your graph for your submission."
   ]
  },
  {
   "cell_type": "code",
   "execution_count": 3,
   "metadata": {},
   "outputs": [
    {
     "ename": "NameError",
     "evalue": "name 'plot_graph' is not defined",
     "output_type": "error",
     "traceback": [
      "\u001b[1;31m---------------------------------------------------------------------------\u001b[0m",
      "\u001b[1;31mNameError\u001b[0m                                 Traceback (most recent call last)",
      "\u001b[1;32m<ipython-input-3-d6843746b642>\u001b[0m in \u001b[0;36m<module>\u001b[1;34m\u001b[0m\n\u001b[1;32m----> 1\u001b[1;33m \u001b[0mplot_graph\u001b[0m\u001b[1;33m(\u001b[0m\u001b[0mG\u001b[0m\u001b[1;33m=\u001b[0m\u001b[0mg_time_expanded\u001b[0m\u001b[1;33m,\u001b[0m \u001b[0mplot_weights\u001b[0m\u001b[1;33m=\u001b[0m\u001b[1;32mFalse\u001b[0m\u001b[1;33m,\u001b[0m \u001b[0mpos_given\u001b[0m\u001b[1;33m=\u001b[0m\u001b[1;32mTrue\u001b[0m\u001b[1;33m)\u001b[0m\u001b[1;33m\u001b[0m\u001b[0m\n\u001b[0m",
      "\u001b[1;31mNameError\u001b[0m: name 'plot_graph' is not defined"
     ]
    }
   ],
   "source": [
    "plot_graph(G=g_time_expanded, plot_weights=False, pos_given=True)\n"
   ]
  },
  {
   "cell_type": "code",
   "execution_count": null,
   "metadata": {},
   "outputs": [],
   "source": []
  }
 ],
 "metadata": {
  "kernelspec": {
   "display_name": "Python 3",
   "language": "python",
   "name": "python3"
  },
  "language_info": {
   "codemirror_mode": {
    "name": "ipython",
    "version": 3
   },
   "file_extension": ".py",
   "mimetype": "text/x-python",
   "name": "python",
   "nbconvert_exporter": "python",
   "pygments_lexer": "ipython3",
   "version": "3.6.6"
  },
  "orig_nbformat": 4
 },
 "nbformat": 4,
 "nbformat_minor": 2
}

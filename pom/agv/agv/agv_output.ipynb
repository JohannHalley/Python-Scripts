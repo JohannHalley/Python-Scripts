{
 "cells": [
  {
   "attachments": {},
   "cell_type": "markdown",
   "metadata": {},
   "source": [
    "# Visualization Notebook\n",
    "This file can be used to plot your graph and to try out your solve function. It is not part of the grading."
   ]
  },
  {
   "cell_type": "code",
   "execution_count": null,
   "metadata": {},
   "outputs": [],
   "source": [
    "pip install gurobipy"
   ]
  },
  {
   "attachments": {},
   "cell_type": "markdown",
   "metadata": {},
   "source": [
    "First we import necessary packages and then define our plotting function"
   ]
  },
  {
   "cell_type": "code",
   "execution_count": null,
   "metadata": {},
   "outputs": [],
   "source": [
    "import matplotlib.pyplot as plt\n",
    "import networkx as nx\n",
    "import json\n",
    "from networkx.readwrite import json_graph\n",
    "from agv import solve\n",
    "\n",
    "\n",
    "def plot_graph(G: nx.Graph, plot_weights: bool, pos_given: bool):\n",
    "    \"\"\"Plots the graph\n",
    "\n",
    "    Args:\n",
    "        G (nx.DiGraph): Graph to plot\n",
    "        plot_weights (bool): Set to true if you want to plot the weights of the edges/arcs\n",
    "        pos_given (bool): Set to true if the graph has a pos attribute\n",
    "    \"\"\"\n",
    "    if pos_given:\n",
    "        pos=nx.get_node_attributes(G,'pos')\n",
    "    else:\n",
    "        pos = nx.shell_layout(G)\n",
    "    node_labels = {n: n for n in G.nodes}\n",
    "    if plot_weights:\n",
    "        edge_labels = dict(\n",
    "            [((u, v), f'{G.edges[(u, v)][\"weight\"]}') for u, v in G.edges])\n",
    "        nx.draw_networkx_edge_labels(G, pos, edge_labels=edge_labels)\n",
    "    nx.draw(G, with_labels=True, labels=node_labels, pos=pos)\n",
    "    plt.show()\n"
   ]
  },
  {
   "attachments": {},
   "cell_type": "markdown",
   "metadata": {},
   "source": [
    "Lets start by plotting the original street layout"
   ]
  },
  {
   "cell_type": "code",
   "execution_count": null,
   "metadata": {},
   "outputs": [],
   "source": [
    "# Instance to solve\n",
    "full_instance_path = 'data_2.json'\n",
    "\n",
    "with open(full_instance_path) as f:\n",
    "    data = json.load(f)\n",
    "    g_street = json_graph.node_link_graph(data['graph'])\n",
    "\n",
    "plot_graph(g_street, True, True)\n",
    "\n",
    "# get type of graph\n",
    "print(type(g_street))\n",
    "# show attributes of graph， class 'networkx.classes.graph.Graph'\n",
    "print(g_street.__dict__)\n"
   ]
  },
  {
   "cell_type": "code",
   "execution_count": null,
   "metadata": {},
   "outputs": [],
   "source": [
    "from agv import *\n",
    "\n",
    "import matplotlib.pyplot as plt\n",
    "import networkx as nx\n",
    "import json\n",
    "from networkx.readwrite import json_graph\n",
    "from agv import solve\n",
    "\n",
    "\n",
    "def plot_graph(G: nx.Graph, plot_weights: bool, pos_given: bool):\n",
    "    \"\"\"Plots the graph\n",
    "\n",
    "    Args:\n",
    "        G (nx.DiGraph): Graph to plot\n",
    "        plot_weights (bool): Set to true if you want to plot the weights of the edges/arcs\n",
    "        pos_given (bool): Set to true if the graph has a pos attribute\n",
    "    \"\"\"\n",
    "    if pos_given:\n",
    "        pos=nx.get_node_attributes(G,'pos')\n",
    "    else:\n",
    "        pos = nx.shell_layout(G)\n",
    "    node_labels = {n: n for n in G.nodes}\n",
    "    if plot_weights:\n",
    "        edge_labels = dict(\n",
    "            [((u, v), f'{G.edges[(u, v)][\"weight\"]}') for u, v in G.edges])\n",
    "        nx.draw_networkx_edge_labels(G, pos, edge_labels=edge_labels)\n",
    "    nx.draw(G, with_labels=True, labels=node_labels, pos=pos)\n",
    "    plt.show()\n",
    "\n",
    "\n",
    "\n",
    "\n",
    "\n",
    "\n",
    "\n",
    "\n",
    "\n",
    "# Instance to solve\n",
    "full_instance_path = 'data_4.json'\n",
    "jobs, g_street= read_instance(full_instance_path)\n",
    "\n",
    "# Construct graph --- NOTE: Please use networkx for this task, it is necessary for the plots in the Jupyter file.\n",
    "g_time_expanded = nx.DiGraph()\n",
    "\n",
    "build_graph_nodes(g_street, jobs, g_time_expanded)\n",
    "\n",
    "build_graph_arcs(g_street, jobs, g_time_expanded)\n",
    "\n",
    "\n",
    "plot_graph(G=g_time_expanded, plot_weights=False, pos_given=True)\n",
    "\n",
    "print(g_time_expanded.edges)\n",
    "print(g_time_expanded.nodes)\n",
    "\n",
    "max_j_d = max([job['j_d'] for job in jobs.values()])\n",
    "print('max: ',max_j_d)\n",
    "\n",
    "for node in g_time_expanded.nodes:\n",
    "    if node[1] != 'start' and node[1] != 'end':\n",
    "        print('start', node)\n",
    "        for e in g_time_expanded.out_edges(node):\n",
    "                if e[0][0] != e[1][0] and e[1][1] != 'end' and e[1][1] != 'start':\n",
    "                    print(\"edge\", e, \", with weight\" ,g_time_expanded.edges[e]['weight'])\n",
    "                    print(e[1][1] + g_time_expanded.edges[e]['weight'],  max_j_d, \" with result \",(g_time_expanded.edges[e]['weight'], max_j_d)[(e[1][1] + g_time_expanded.edges[e]['weight']) >= max_j_d] )\n",
    "                    for w in range((g_time_expanded.edges[e]['weight'], max_j_d - e[1][1] + 1)[(e[1][1] + g_time_expanded.edges[e]['weight']) > max_j_d]):\n",
    "                        print(\"bbb\", (e[1][0], e[0][1] + w), (e[0][0], e[1][1] + w))\n",
    "\n",
    "\n",
    "                        "
   ]
  },
  {
   "attachments": {},
   "cell_type": "markdown",
   "metadata": {},
   "source": [
    "Now we solve the instance and retrieve the time-expanded graph"
   ]
  },
  {
   "cell_type": "code",
   "execution_count": 1,
   "metadata": {},
   "outputs": [
    {
     "name": "stdout",
     "output_type": "stream",
     "text": [
      "Academic license - for non-commercial use only - expires 2024-03-31\n",
      "Using license file /Users/hanbin/gurobi.lic\n",
      "*******\n",
      "*******\n",
      "*******\n",
      "Gurobi Optimizer version 9.1.2 build v9.1.2rc0 (mac64)\n",
      "Thread count: 8 physical cores, 8 logical processors, using up to 8 threads\n",
      "Optimize a model with 48 rows, 84 columns and 168 nonzeros\n",
      "Model fingerprint: 0x4cf217c8\n",
      "Variable types: 0 continuous, 84 integer (84 binary)\n",
      "Coefficient statistics:\n",
      "  Matrix range     [1e+00, 1e+00]\n",
      "  Objective range  [1e+00, 1e+00]\n",
      "  Bounds range     [1e+00, 1e+00]\n",
      "  RHS range        [1e+00, 1e+00]\n",
      "Found heuristic solution: objective 5.0000000\n",
      "Presolve removed 48 rows and 84 columns\n",
      "Presolve time: 0.00s\n",
      "Presolve: All rows and columns removed\n",
      "\n",
      "Explored 0 nodes (0 simplex iterations) in 0.01 seconds\n",
      "Thread count was 1 (of 8 available processors)\n",
      "\n",
      "Solution count 2: 3 5 \n",
      "\n",
      "Optimal solution found (tolerance 1.00e-04)\n",
      "Best objective 3.000000000000e+00, best bound 3.000000000000e+00, gap 0.0000%\n",
      "(0, 2) ('0', 'end') 0\n",
      "(1, 1) (0, 2) 0\n",
      "('0', 'start') (1, 1) 0\n",
      "(0, 3) ('1', 'end') 1\n",
      "(1, 2) (0, 3) 1\n",
      "('1', 'start') (1, 2) 1\n",
      "(0, 1) (1, 2) 2\n",
      "(1, 2) ('2', 'end') 2\n",
      "('2', 'start') (0, 1) 2\n"
     ]
    },
    {
     "data": {
      "image/png": "[encoded data removed]",
      "text/plain": [
       "<Figure size 432x288 with 1 Axes>"
      ]
     },
     "metadata": {},
     "output_type": "display_data"
    }
   ],
   "source": [
    "from agv import *\n",
    "\n",
    "import matplotlib.pyplot as plt\n",
    "import networkx as nx\n",
    "import json\n",
    "from networkx.readwrite import json_graph\n",
    "from agv import solve\n",
    "\n",
    "\n",
    "def plot_graph(G: nx.Graph, plot_weights: bool, pos_given: bool):\n",
    "    \"\"\"Plots the graph\n",
    "\n",
    "    Args:\n",
    "        G (nx.DiGraph): Graph to plot\n",
    "        plot_weights (bool): Set to true if you want to plot the weights of the edges/arcs\n",
    "        pos_given (bool): Set to true if the graph has a pos attribute\n",
    "    \"\"\"\n",
    "    if pos_given:\n",
    "        pos=nx.get_node_attributes(G,'pos')\n",
    "    else:\n",
    "        pos = nx.shell_layout(G)\n",
    "    node_labels = {n: n for n in G.nodes}\n",
    "    if plot_weights:\n",
    "        edge_labels = dict(\n",
    "            [((u, v), f'{G.edges[(u, v)][\"weight\"]}') for u, v in G.edges])\n",
    "        nx.draw_networkx_edge_labels(G, pos, edge_labels=edge_labels)\n",
    "    nx.draw(G, with_labels=True, labels=node_labels, pos=pos)\n",
    "    plt.show()\n",
    "\n",
    "\n",
    "full_instance_path = 'data_1.json'\n",
    "model, g_time_expanded, res = solve(full_instance_path)\n",
    "\n",
    "plot_graph(G=res, plot_weights=False, pos_given=True)\n"
   ]
  },
  {
   "attachments": {},
   "cell_type": "markdown",
   "metadata": {},
   "source": [
    "Let's plot your time expanded graph - set the first flag to true if you added weights to your arcs and the second flag to true if you added positions to your nodes (recommended!). For example, you may use the time steps as y coordinates and the location IDs as x coordinates.\n",
    "\n",
    "**NOTE:** This is just an example for your convenience, you do not need to add positions to your nodes or plot your graph for your submission."
   ]
  },
  {
   "cell_type": "code",
   "execution_count": null,
   "metadata": {},
   "outputs": [],
   "source": [
    "import gurobipy as gp\n",
    "from gurobipy import GRB\n",
    "\n",
    "arcs, capacity = gp.multidict({\n",
    "    ('Detroit', 'Boston'):   100,\n",
    "    ('Detroit', 'New York'):  80,\n",
    "    ('Detroit', 'Seattle'):  120,\n",
    "    ('Denver',  'Boston'):   120,\n",
    "    ('Denver',  'New York'): 120,\n",
    "    ('Denver',  'Seattle'):  120})\n",
    "\n",
    "\n",
    "print(arcs)\n",
    "print(capacity)"
   ]
  }
 ],
 "metadata": {
  "kernelspec": {
   "display_name": "Python 3",
   "language": "python",
   "name": "python3"
  },
  "language_info": {
   "codemirror_mode": {
    "name": "ipython",
    "version": 3
   },
   "file_extension": ".py",
   "mimetype": "text/x-python",
   "name": "python",
   "nbconvert_exporter": "python",
   "pygments_lexer": "ipython3",
   "version": "3.6.6"
  },
  "orig_nbformat": 4
 },
 "nbformat": 4,
 "nbformat_minor": 2
}
